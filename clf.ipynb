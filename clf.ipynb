{
 "cells": [
  {
   "cell_type": "code",
   "execution_count": 1,
   "metadata": {},
   "outputs": [],
   "source": [
    "import pandas as pd\n",
    "import numpy as np\n",
    "import matplotlib.pyplot as plt\n",
    "from sklearn.model_selection import train_test_split\n",
    "from sklearn.linear_model import LogisticRegression"
   ]
  },
  {
   "cell_type": "code",
   "execution_count": 5,
   "metadata": {},
   "outputs": [
    {
     "data": {
      "text/html": [
       "<div>\n",
       "<style scoped>\n",
       "    .dataframe tbody tr th:only-of-type {\n",
       "        vertical-align: middle;\n",
       "    }\n",
       "\n",
       "    .dataframe tbody tr th {\n",
       "        vertical-align: top;\n",
       "    }\n",
       "\n",
       "    .dataframe thead th {\n",
       "        text-align: right;\n",
       "    }\n",
       "</style>\n",
       "<table border=\"1\" class=\"dataframe\">\n",
       "  <thead>\n",
       "    <tr style=\"text-align: right;\">\n",
       "      <th></th>\n",
       "      <th>customer name</th>\n",
       "      <th>final cost</th>\n",
       "      <th>address</th>\n",
       "    </tr>\n",
       "  </thead>\n",
       "  <tbody>\n",
       "    <tr>\n",
       "      <th>0</th>\n",
       "      <td>حمیدرضا تبریزیان</td>\n",
       "      <td>290501028.0</td>\n",
       "      <td>29     ملک شهر خیابان مفتح کوچه طلوع (شماره 50...</td>\n",
       "    </tr>\n",
       "    <tr>\n",
       "      <th>1</th>\n",
       "      <td>علی آخوندی</td>\n",
       "      <td>193184177.0</td>\n",
       "      <td>0      خیابان امام خمینی.جنب بانک ملی\n",
       "1      خ...</td>\n",
       "    </tr>\n",
       "    <tr>\n",
       "      <th>2</th>\n",
       "      <td>سید رضا حسینی</td>\n",
       "      <td>147551960.0</td>\n",
       "      <td>173    خ امام خمینی خ امیر کبیر  روبروی بانک م...</td>\n",
       "    </tr>\n",
       "    <tr>\n",
       "      <th>3</th>\n",
       "      <td>محسن  سلیمانی</td>\n",
       "      <td>108988792.0</td>\n",
       "      <td>76     خیابان کاشانی جنوبی 30 متر بعد از خیابا...</td>\n",
       "    </tr>\n",
       "    <tr>\n",
       "      <th>4</th>\n",
       "      <td>اتوسرویس ترافیک</td>\n",
       "      <td>89339103.0</td>\n",
       "      <td>26    خ سعدی شمالی.خ خواجه عبدالله انصاری.جنب ...</td>\n",
       "    </tr>\n",
       "    <tr>\n",
       "      <th>5</th>\n",
       "      <td>پویا هدایتی</td>\n",
       "      <td>80282170.0</td>\n",
       "      <td>169    کمربندی چرمهین زمان آباد نبش کوچه ی صفا...</td>\n",
       "    </tr>\n",
       "    <tr>\n",
       "      <th>6</th>\n",
       "      <td>حسین  عبدالرضایی</td>\n",
       "      <td>75885037.0</td>\n",
       "      <td>24     اصفهان خ ابتدای اتوبان ذوب اهن ابتدای ب...</td>\n",
       "    </tr>\n",
       "    <tr>\n",
       "      <th>7</th>\n",
       "      <td>عباس بروجی</td>\n",
       "      <td>66337160.0</td>\n",
       "      <td>20     خیابان سجاد انتهای سپهسالار یا قائم مقا...</td>\n",
       "    </tr>\n",
       "    <tr>\n",
       "      <th>8</th>\n",
       "      <td>محمد بیگی</td>\n",
       "      <td>64855518.0</td>\n",
       "      <td>201    ابتدای اتوبان ذوب اهن-بعداز قائمیه. بعد...</td>\n",
       "    </tr>\n",
       "    <tr>\n",
       "      <th>9</th>\n",
       "      <td>فرهاد ثالثی</td>\n",
       "      <td>47780720.0</td>\n",
       "      <td>136    بلوارکشاورزخیابان قائمیه .صد متر بعدازچ...</td>\n",
       "    </tr>\n",
       "    <tr>\n",
       "      <th>10</th>\n",
       "      <td>عباس حیدریان</td>\n",
       "      <td>19650400.0</td>\n",
       "      <td>204    چرمهین.شهرک خدماتی پیامبر اعظم.مقابل پم...</td>\n",
       "    </tr>\n",
       "    <tr>\n",
       "      <th>11</th>\n",
       "      <td>بهفر خانی</td>\n",
       "      <td>18426000.0</td>\n",
       "      <td>103    میدان جمهوری خیابان امام خمینی صد متر ب...</td>\n",
       "    </tr>\n",
       "    <tr>\n",
       "      <th>12</th>\n",
       "      <td>سیدعبدالله  تقوی</td>\n",
       "      <td>14736000.0</td>\n",
       "      <td>96    بلوارکشاورز از سمت قائمیه به کشاورزی بعد...</td>\n",
       "    </tr>\n",
       "    <tr>\n",
       "      <th>13</th>\n",
       "      <td>احمد رضا  خرم</td>\n",
       "      <td>13081796.0</td>\n",
       "      <td>197    ابتدای باغ فردوس،روبروی نانوایی,اتوسروی...</td>\n",
       "    </tr>\n",
       "    <tr>\n",
       "      <th>14</th>\n",
       "      <td>سالار</td>\n",
       "      <td>12436000.0</td>\n",
       "      <td>299    ابتدای اتوبان ذوب آهن بین گلزار 5و6\n",
       "300...</td>\n",
       "    </tr>\n",
       "    <tr>\n",
       "      <th>15</th>\n",
       "      <td>عباس ویسی</td>\n",
       "      <td>11780399.0</td>\n",
       "      <td>17    اصفهان بلوار کشاورز خیابان ازادگان\n",
       "18   ...</td>\n",
       "    </tr>\n",
       "    <tr>\n",
       "      <th>16</th>\n",
       "      <td>محمد رضا گنجی</td>\n",
       "      <td>11240000.0</td>\n",
       "      <td>214    شهرک پیامبر اعظم.روبروی cng\n",
       "215    شهرک...</td>\n",
       "    </tr>\n",
       "    <tr>\n",
       "      <th>17</th>\n",
       "      <td>حمیدرضا دهقان</td>\n",
       "      <td>8670000.0</td>\n",
       "      <td>87                                 NaN\n",
       "88    خ...</td>\n",
       "    </tr>\n",
       "    <tr>\n",
       "      <th>18</th>\n",
       "      <td>مهران براتي</td>\n",
       "      <td>7860000.0</td>\n",
       "      <td>143    شاپور جديد خ مشيرالدوله\n",
       "144    شاپور جد...</td>\n",
       "    </tr>\n",
       "    <tr>\n",
       "      <th>19</th>\n",
       "      <td>محمد شفیعیان</td>\n",
       "      <td>6462000.0</td>\n",
       "      <td>59    اصفهان خورزوق میدان امام خمینی پشت مخابر...</td>\n",
       "    </tr>\n",
       "    <tr>\n",
       "      <th>20</th>\n",
       "      <td>حمید کهنمویی</td>\n",
       "      <td>3576000.0</td>\n",
       "      <td>40    درچه_خ امام داخل جایگاه بنزین البرز\n",
       "41  ...</td>\n",
       "    </tr>\n",
       "    <tr>\n",
       "      <th>21</th>\n",
       "      <td>یعقوب صالحی چرمهینی</td>\n",
       "      <td>1720000.0</td>\n",
       "      <td>192    بلوار امام،نبش خیابان شورا\n",
       "193    بلوار...</td>\n",
       "    </tr>\n",
       "    <tr>\n",
       "      <th>22</th>\n",
       "      <td>حامد  بدیعی</td>\n",
       "      <td>704000.0</td>\n",
       "      <td>45    خیابان مشیرالدوله بعد از چهار راه هزاردس...</td>\n",
       "    </tr>\n",
       "  </tbody>\n",
       "</table>\n",
       "</div>"
      ],
      "text/plain": [
       "          customer name   final cost  \\\n",
       "0      حمیدرضا تبریزیان  290501028.0   \n",
       "1            علی آخوندی  193184177.0   \n",
       "2         سید رضا حسینی  147551960.0   \n",
       "3         محسن  سلیمانی  108988792.0   \n",
       "4       اتوسرویس ترافیک   89339103.0   \n",
       "5           پویا هدایتی   80282170.0   \n",
       "6      حسین  عبدالرضایی   75885037.0   \n",
       "7            عباس بروجی   66337160.0   \n",
       "8             محمد بیگی   64855518.0   \n",
       "9           فرهاد ثالثی   47780720.0   \n",
       "10         عباس حیدریان   19650400.0   \n",
       "11            بهفر خانی   18426000.0   \n",
       "12     سیدعبدالله  تقوی   14736000.0   \n",
       "13        احمد رضا  خرم   13081796.0   \n",
       "14                سالار   12436000.0   \n",
       "15            عباس ویسی   11780399.0   \n",
       "16        محمد رضا گنجی   11240000.0   \n",
       "17        حمیدرضا دهقان    8670000.0   \n",
       "18          مهران براتي    7860000.0   \n",
       "19         محمد شفیعیان    6462000.0   \n",
       "20         حمید کهنمویی    3576000.0   \n",
       "21  یعقوب صالحی چرمهینی    1720000.0   \n",
       "22         حامد  بدیعی      704000.0   \n",
       "\n",
       "                                              address  \n",
       "0   29     ملک شهر خیابان مفتح کوچه طلوع (شماره 50...  \n",
       "1   0      خیابان امام خمینی.جنب بانک ملی\n",
       "1      خ...  \n",
       "2   173    خ امام خمینی خ امیر کبیر  روبروی بانک م...  \n",
       "3   76     خیابان کاشانی جنوبی 30 متر بعد از خیابا...  \n",
       "4   26    خ سعدی شمالی.خ خواجه عبدالله انصاری.جنب ...  \n",
       "5   169    کمربندی چرمهین زمان آباد نبش کوچه ی صفا...  \n",
       "6   24     اصفهان خ ابتدای اتوبان ذوب اهن ابتدای ب...  \n",
       "7   20     خیابان سجاد انتهای سپهسالار یا قائم مقا...  \n",
       "8   201    ابتدای اتوبان ذوب اهن-بعداز قائمیه. بعد...  \n",
       "9   136    بلوارکشاورزخیابان قائمیه .صد متر بعدازچ...  \n",
       "10  204    چرمهین.شهرک خدماتی پیامبر اعظم.مقابل پم...  \n",
       "11  103    میدان جمهوری خیابان امام خمینی صد متر ب...  \n",
       "12  96    بلوارکشاورز از سمت قائمیه به کشاورزی بعد...  \n",
       "13  197    ابتدای باغ فردوس،روبروی نانوایی,اتوسروی...  \n",
       "14  299    ابتدای اتوبان ذوب آهن بین گلزار 5و6\n",
       "300...  \n",
       "15  17    اصفهان بلوار کشاورز خیابان ازادگان\n",
       "18   ...  \n",
       "16  214    شهرک پیامبر اعظم.روبروی cng\n",
       "215    شهرک...  \n",
       "17  87                                 NaN\n",
       "88    خ...  \n",
       "18  143    شاپور جديد خ مشيرالدوله\n",
       "144    شاپور جد...  \n",
       "19  59    اصفهان خورزوق میدان امام خمینی پشت مخابر...  \n",
       "20  40    درچه_خ امام داخل جایگاه بنزین البرز\n",
       "41  ...  \n",
       "21  192    بلوار امام،نبش خیابان شورا\n",
       "193    بلوار...  \n",
       "22  45    خیابان مشیرالدوله بعد از چهار راه هزاردس...  "
      ]
     },
     "execution_count": 5,
     "metadata": {},
     "output_type": "execute_result"
    }
   ],
   "source": [
    "\n",
    "df3=pd.read_excel('/Users/user/Desktop/tamrine2.xlsx')\n",
    "df3.groupby(['customer name'])['final cost'].sum().sort_values(ascending=False)\n",
    "data=pd.DataFrame(df3.groupby(['customer name'])['final cost'].sum().sort_values(ascending=False))\n",
    "data\n",
    "df3.groupby(['customer name'])['address']\n",
    "data1=pd.DataFrame(df3.groupby(['customer name'])['address'],columns=['customer name','address'])\n",
    "data1\n",
    "res=pd.merge(data,data1,on='customer name')"
   ]
  },
  {
   "cell_type": "code",
   "execution_count": 13,
   "metadata": {},
   "outputs": [],
   "source": [
    "def newout(X):\n",
    "    if X<=10000000:\n",
    "        X=0\n",
    "    elif 10000000<X<60000000:\n",
    "        X=1\n",
    "    else:\n",
    "        X=2\n",
    "    return X"
   ]
  },
  {
   "cell_type": "code",
   "execution_count": 20,
   "metadata": {},
   "outputs": [],
   "source": [
    "res['output']=res['final cost'].apply(newout)"
   ]
  },
  {
   "cell_type": "code",
   "execution_count": 23,
   "metadata": {},
   "outputs": [
    {
     "data": {
      "text/html": [
       "<div>\n",
       "<style scoped>\n",
       "    .dataframe tbody tr th:only-of-type {\n",
       "        vertical-align: middle;\n",
       "    }\n",
       "\n",
       "    .dataframe tbody tr th {\n",
       "        vertical-align: top;\n",
       "    }\n",
       "\n",
       "    .dataframe thead th {\n",
       "        text-align: right;\n",
       "    }\n",
       "</style>\n",
       "<table border=\"1\" class=\"dataframe\">\n",
       "  <thead>\n",
       "    <tr style=\"text-align: right;\">\n",
       "      <th></th>\n",
       "      <th>customer name</th>\n",
       "      <th>final cost</th>\n",
       "      <th>address</th>\n",
       "      <th>output</th>\n",
       "    </tr>\n",
       "  </thead>\n",
       "  <tbody>\n",
       "    <tr>\n",
       "      <th>0</th>\n",
       "      <td>حمیدرضا تبریزیان</td>\n",
       "      <td>290501028.0</td>\n",
       "      <td>29     ملک شهر خیابان مفتح کوچه طلوع (شماره 50...</td>\n",
       "      <td>2</td>\n",
       "    </tr>\n",
       "    <tr>\n",
       "      <th>1</th>\n",
       "      <td>علی آخوندی</td>\n",
       "      <td>193184177.0</td>\n",
       "      <td>0      خیابان امام خمینی.جنب بانک ملی\n",
       "1      خ...</td>\n",
       "      <td>2</td>\n",
       "    </tr>\n",
       "    <tr>\n",
       "      <th>2</th>\n",
       "      <td>سید رضا حسینی</td>\n",
       "      <td>147551960.0</td>\n",
       "      <td>173    خ امام خمینی خ امیر کبیر  روبروی بانک م...</td>\n",
       "      <td>2</td>\n",
       "    </tr>\n",
       "    <tr>\n",
       "      <th>3</th>\n",
       "      <td>محسن  سلیمانی</td>\n",
       "      <td>108988792.0</td>\n",
       "      <td>76     خیابان کاشانی جنوبی 30 متر بعد از خیابا...</td>\n",
       "      <td>2</td>\n",
       "    </tr>\n",
       "    <tr>\n",
       "      <th>4</th>\n",
       "      <td>اتوسرویس ترافیک</td>\n",
       "      <td>89339103.0</td>\n",
       "      <td>26    خ سعدی شمالی.خ خواجه عبدالله انصاری.جنب ...</td>\n",
       "      <td>2</td>\n",
       "    </tr>\n",
       "    <tr>\n",
       "      <th>5</th>\n",
       "      <td>پویا هدایتی</td>\n",
       "      <td>80282170.0</td>\n",
       "      <td>169    کمربندی چرمهین زمان آباد نبش کوچه ی صفا...</td>\n",
       "      <td>2</td>\n",
       "    </tr>\n",
       "    <tr>\n",
       "      <th>6</th>\n",
       "      <td>حسین  عبدالرضایی</td>\n",
       "      <td>75885037.0</td>\n",
       "      <td>24     اصفهان خ ابتدای اتوبان ذوب اهن ابتدای ب...</td>\n",
       "      <td>2</td>\n",
       "    </tr>\n",
       "    <tr>\n",
       "      <th>7</th>\n",
       "      <td>عباس بروجی</td>\n",
       "      <td>66337160.0</td>\n",
       "      <td>20     خیابان سجاد انتهای سپهسالار یا قائم مقا...</td>\n",
       "      <td>2</td>\n",
       "    </tr>\n",
       "    <tr>\n",
       "      <th>8</th>\n",
       "      <td>محمد بیگی</td>\n",
       "      <td>64855518.0</td>\n",
       "      <td>201    ابتدای اتوبان ذوب اهن-بعداز قائمیه. بعد...</td>\n",
       "      <td>2</td>\n",
       "    </tr>\n",
       "    <tr>\n",
       "      <th>9</th>\n",
       "      <td>فرهاد ثالثی</td>\n",
       "      <td>47780720.0</td>\n",
       "      <td>136    بلوارکشاورزخیابان قائمیه .صد متر بعدازچ...</td>\n",
       "      <td>1</td>\n",
       "    </tr>\n",
       "    <tr>\n",
       "      <th>10</th>\n",
       "      <td>عباس حیدریان</td>\n",
       "      <td>19650400.0</td>\n",
       "      <td>204    چرمهین.شهرک خدماتی پیامبر اعظم.مقابل پم...</td>\n",
       "      <td>1</td>\n",
       "    </tr>\n",
       "    <tr>\n",
       "      <th>11</th>\n",
       "      <td>بهفر خانی</td>\n",
       "      <td>18426000.0</td>\n",
       "      <td>103    میدان جمهوری خیابان امام خمینی صد متر ب...</td>\n",
       "      <td>1</td>\n",
       "    </tr>\n",
       "    <tr>\n",
       "      <th>12</th>\n",
       "      <td>سیدعبدالله  تقوی</td>\n",
       "      <td>14736000.0</td>\n",
       "      <td>96    بلوارکشاورز از سمت قائمیه به کشاورزی بعد...</td>\n",
       "      <td>1</td>\n",
       "    </tr>\n",
       "    <tr>\n",
       "      <th>13</th>\n",
       "      <td>احمد رضا  خرم</td>\n",
       "      <td>13081796.0</td>\n",
       "      <td>197    ابتدای باغ فردوس،روبروی نانوایی,اتوسروی...</td>\n",
       "      <td>1</td>\n",
       "    </tr>\n",
       "    <tr>\n",
       "      <th>14</th>\n",
       "      <td>سالار</td>\n",
       "      <td>12436000.0</td>\n",
       "      <td>299    ابتدای اتوبان ذوب آهن بین گلزار 5و6\n",
       "300...</td>\n",
       "      <td>1</td>\n",
       "    </tr>\n",
       "    <tr>\n",
       "      <th>15</th>\n",
       "      <td>عباس ویسی</td>\n",
       "      <td>11780399.0</td>\n",
       "      <td>17    اصفهان بلوار کشاورز خیابان ازادگان\n",
       "18   ...</td>\n",
       "      <td>1</td>\n",
       "    </tr>\n",
       "    <tr>\n",
       "      <th>16</th>\n",
       "      <td>محمد رضا گنجی</td>\n",
       "      <td>11240000.0</td>\n",
       "      <td>214    شهرک پیامبر اعظم.روبروی cng\n",
       "215    شهرک...</td>\n",
       "      <td>1</td>\n",
       "    </tr>\n",
       "    <tr>\n",
       "      <th>17</th>\n",
       "      <td>حمیدرضا دهقان</td>\n",
       "      <td>8670000.0</td>\n",
       "      <td>87                                 NaN\n",
       "88    خ...</td>\n",
       "      <td>0</td>\n",
       "    </tr>\n",
       "    <tr>\n",
       "      <th>18</th>\n",
       "      <td>مهران براتي</td>\n",
       "      <td>7860000.0</td>\n",
       "      <td>143    شاپور جديد خ مشيرالدوله\n",
       "144    شاپور جد...</td>\n",
       "      <td>0</td>\n",
       "    </tr>\n",
       "    <tr>\n",
       "      <th>19</th>\n",
       "      <td>محمد شفیعیان</td>\n",
       "      <td>6462000.0</td>\n",
       "      <td>59    اصفهان خورزوق میدان امام خمینی پشت مخابر...</td>\n",
       "      <td>0</td>\n",
       "    </tr>\n",
       "    <tr>\n",
       "      <th>20</th>\n",
       "      <td>حمید کهنمویی</td>\n",
       "      <td>3576000.0</td>\n",
       "      <td>40    درچه_خ امام داخل جایگاه بنزین البرز\n",
       "41  ...</td>\n",
       "      <td>0</td>\n",
       "    </tr>\n",
       "    <tr>\n",
       "      <th>21</th>\n",
       "      <td>یعقوب صالحی چرمهینی</td>\n",
       "      <td>1720000.0</td>\n",
       "      <td>192    بلوار امام،نبش خیابان شورا\n",
       "193    بلوار...</td>\n",
       "      <td>0</td>\n",
       "    </tr>\n",
       "    <tr>\n",
       "      <th>22</th>\n",
       "      <td>حامد  بدیعی</td>\n",
       "      <td>704000.0</td>\n",
       "      <td>45    خیابان مشیرالدوله بعد از چهار راه هزاردس...</td>\n",
       "      <td>0</td>\n",
       "    </tr>\n",
       "  </tbody>\n",
       "</table>\n",
       "</div>"
      ],
      "text/plain": [
       "          customer name   final cost  \\\n",
       "0      حمیدرضا تبریزیان  290501028.0   \n",
       "1            علی آخوندی  193184177.0   \n",
       "2         سید رضا حسینی  147551960.0   \n",
       "3         محسن  سلیمانی  108988792.0   \n",
       "4       اتوسرویس ترافیک   89339103.0   \n",
       "5           پویا هدایتی   80282170.0   \n",
       "6      حسین  عبدالرضایی   75885037.0   \n",
       "7            عباس بروجی   66337160.0   \n",
       "8             محمد بیگی   64855518.0   \n",
       "9           فرهاد ثالثی   47780720.0   \n",
       "10         عباس حیدریان   19650400.0   \n",
       "11            بهفر خانی   18426000.0   \n",
       "12     سیدعبدالله  تقوی   14736000.0   \n",
       "13        احمد رضا  خرم   13081796.0   \n",
       "14                سالار   12436000.0   \n",
       "15            عباس ویسی   11780399.0   \n",
       "16        محمد رضا گنجی   11240000.0   \n",
       "17        حمیدرضا دهقان    8670000.0   \n",
       "18          مهران براتي    7860000.0   \n",
       "19         محمد شفیعیان    6462000.0   \n",
       "20         حمید کهنمویی    3576000.0   \n",
       "21  یعقوب صالحی چرمهینی    1720000.0   \n",
       "22         حامد  بدیعی      704000.0   \n",
       "\n",
       "                                              address  output  \n",
       "0   29     ملک شهر خیابان مفتح کوچه طلوع (شماره 50...       2  \n",
       "1   0      خیابان امام خمینی.جنب بانک ملی\n",
       "1      خ...       2  \n",
       "2   173    خ امام خمینی خ امیر کبیر  روبروی بانک م...       2  \n",
       "3   76     خیابان کاشانی جنوبی 30 متر بعد از خیابا...       2  \n",
       "4   26    خ سعدی شمالی.خ خواجه عبدالله انصاری.جنب ...       2  \n",
       "5   169    کمربندی چرمهین زمان آباد نبش کوچه ی صفا...       2  \n",
       "6   24     اصفهان خ ابتدای اتوبان ذوب اهن ابتدای ب...       2  \n",
       "7   20     خیابان سجاد انتهای سپهسالار یا قائم مقا...       2  \n",
       "8   201    ابتدای اتوبان ذوب اهن-بعداز قائمیه. بعد...       2  \n",
       "9   136    بلوارکشاورزخیابان قائمیه .صد متر بعدازچ...       1  \n",
       "10  204    چرمهین.شهرک خدماتی پیامبر اعظم.مقابل پم...       1  \n",
       "11  103    میدان جمهوری خیابان امام خمینی صد متر ب...       1  \n",
       "12  96    بلوارکشاورز از سمت قائمیه به کشاورزی بعد...       1  \n",
       "13  197    ابتدای باغ فردوس،روبروی نانوایی,اتوسروی...       1  \n",
       "14  299    ابتدای اتوبان ذوب آهن بین گلزار 5و6\n",
       "300...       1  \n",
       "15  17    اصفهان بلوار کشاورز خیابان ازادگان\n",
       "18   ...       1  \n",
       "16  214    شهرک پیامبر اعظم.روبروی cng\n",
       "215    شهرک...       1  \n",
       "17  87                                 NaN\n",
       "88    خ...       0  \n",
       "18  143    شاپور جديد خ مشيرالدوله\n",
       "144    شاپور جد...       0  \n",
       "19  59    اصفهان خورزوق میدان امام خمینی پشت مخابر...       0  \n",
       "20  40    درچه_خ امام داخل جایگاه بنزین البرز\n",
       "41  ...       0  \n",
       "21  192    بلوار امام،نبش خیابان شورا\n",
       "193    بلوار...       0  \n",
       "22  45    خیابان مشیرالدوله بعد از چهار راه هزاردس...       0  "
      ]
     },
     "execution_count": 23,
     "metadata": {},
     "output_type": "execute_result"
    }
   ],
   "source": [
    "res"
   ]
  },
  {
   "cell_type": "code",
   "execution_count": 24,
   "metadata": {},
   "outputs": [],
   "source": [
    "res.to_excel('/Users/user/Desktop/clf.xlsx', engine='xlsxwriter')"
   ]
  },
  {
   "cell_type": "code",
   "execution_count": 28,
   "metadata": {},
   "outputs": [],
   "source": [
    "profit_df=pd.read_excel('/Users/user/Desktop/clf.xlsx')"
   ]
  },
  {
   "cell_type": "code",
   "execution_count": 29,
   "metadata": {},
   "outputs": [
    {
     "data": {
      "text/html": [
       "<div>\n",
       "<style scoped>\n",
       "    .dataframe tbody tr th:only-of-type {\n",
       "        vertical-align: middle;\n",
       "    }\n",
       "\n",
       "    .dataframe tbody tr th {\n",
       "        vertical-align: top;\n",
       "    }\n",
       "\n",
       "    .dataframe thead th {\n",
       "        text-align: right;\n",
       "    }\n",
       "</style>\n",
       "<table border=\"1\" class=\"dataframe\">\n",
       "  <thead>\n",
       "    <tr style=\"text-align: right;\">\n",
       "      <th></th>\n",
       "      <th>Unnamed: 0</th>\n",
       "      <th>customer name</th>\n",
       "      <th>final cost</th>\n",
       "      <th>address</th>\n",
       "      <th>output</th>\n",
       "    </tr>\n",
       "  </thead>\n",
       "  <tbody>\n",
       "    <tr>\n",
       "      <th>0</th>\n",
       "      <td>0</td>\n",
       "      <td>حمیدرضا تبریزیان</td>\n",
       "      <td>290501028</td>\n",
       "      <td>29     ملک شهر خیابان مفتح کوچه طلوع (شماره 50...</td>\n",
       "      <td>2</td>\n",
       "    </tr>\n",
       "    <tr>\n",
       "      <th>1</th>\n",
       "      <td>1</td>\n",
       "      <td>علی آخوندی</td>\n",
       "      <td>193184177</td>\n",
       "      <td>0      خیابان امام خمینی.جنب بانک ملی\\n1      ...</td>\n",
       "      <td>2</td>\n",
       "    </tr>\n",
       "    <tr>\n",
       "      <th>2</th>\n",
       "      <td>2</td>\n",
       "      <td>سید رضا حسینی</td>\n",
       "      <td>147551960</td>\n",
       "      <td>173    خ امام خمینی خ امیر کبیر  روبروی بانک م...</td>\n",
       "      <td>2</td>\n",
       "    </tr>\n",
       "    <tr>\n",
       "      <th>3</th>\n",
       "      <td>3</td>\n",
       "      <td>محسن  سلیمانی</td>\n",
       "      <td>108988792</td>\n",
       "      <td>76     خیابان کاشانی جنوبی 30 متر بعد از خیابا...</td>\n",
       "      <td>2</td>\n",
       "    </tr>\n",
       "    <tr>\n",
       "      <th>4</th>\n",
       "      <td>4</td>\n",
       "      <td>اتوسرویس ترافیک</td>\n",
       "      <td>89339103</td>\n",
       "      <td>26    خ سعدی شمالی.خ خواجه عبدالله انصاری.جنب ...</td>\n",
       "      <td>2</td>\n",
       "    </tr>\n",
       "    <tr>\n",
       "      <th>5</th>\n",
       "      <td>5</td>\n",
       "      <td>پویا هدایتی</td>\n",
       "      <td>80282170</td>\n",
       "      <td>169    کمربندی چرمهین زمان آباد نبش کوچه ی صفا...</td>\n",
       "      <td>2</td>\n",
       "    </tr>\n",
       "    <tr>\n",
       "      <th>6</th>\n",
       "      <td>6</td>\n",
       "      <td>حسین  عبدالرضایی</td>\n",
       "      <td>75885037</td>\n",
       "      <td>24     اصفهان خ ابتدای اتوبان ذوب اهن ابتدای ب...</td>\n",
       "      <td>2</td>\n",
       "    </tr>\n",
       "    <tr>\n",
       "      <th>7</th>\n",
       "      <td>7</td>\n",
       "      <td>عباس بروجی</td>\n",
       "      <td>66337160</td>\n",
       "      <td>20     خیابان سجاد انتهای سپهسالار یا قائم مقا...</td>\n",
       "      <td>2</td>\n",
       "    </tr>\n",
       "    <tr>\n",
       "      <th>8</th>\n",
       "      <td>8</td>\n",
       "      <td>محمد بیگی</td>\n",
       "      <td>64855518</td>\n",
       "      <td>201    ابتدای اتوبان ذوب اهن-بعداز قائمیه. بعد...</td>\n",
       "      <td>2</td>\n",
       "    </tr>\n",
       "    <tr>\n",
       "      <th>9</th>\n",
       "      <td>9</td>\n",
       "      <td>فرهاد ثالثی</td>\n",
       "      <td>47780720</td>\n",
       "      <td>136    بلوارکشاورزخیابان قائمیه .صد متر بعدازچ...</td>\n",
       "      <td>1</td>\n",
       "    </tr>\n",
       "    <tr>\n",
       "      <th>10</th>\n",
       "      <td>10</td>\n",
       "      <td>عباس حیدریان</td>\n",
       "      <td>19650400</td>\n",
       "      <td>204    چرمهین.شهرک خدماتی پیامبر اعظم.مقابل پم...</td>\n",
       "      <td>1</td>\n",
       "    </tr>\n",
       "    <tr>\n",
       "      <th>11</th>\n",
       "      <td>11</td>\n",
       "      <td>بهفر خانی</td>\n",
       "      <td>18426000</td>\n",
       "      <td>103    میدان جمهوری خیابان امام خمینی صد متر ب...</td>\n",
       "      <td>1</td>\n",
       "    </tr>\n",
       "    <tr>\n",
       "      <th>12</th>\n",
       "      <td>12</td>\n",
       "      <td>سیدعبدالله  تقوی</td>\n",
       "      <td>14736000</td>\n",
       "      <td>96    بلوارکشاورز از سمت قائمیه به کشاورزی بعد...</td>\n",
       "      <td>1</td>\n",
       "    </tr>\n",
       "    <tr>\n",
       "      <th>13</th>\n",
       "      <td>13</td>\n",
       "      <td>احمد رضا  خرم</td>\n",
       "      <td>13081796</td>\n",
       "      <td>197    ابتدای باغ فردوس،روبروی نانوایی,اتوسروی...</td>\n",
       "      <td>1</td>\n",
       "    </tr>\n",
       "    <tr>\n",
       "      <th>14</th>\n",
       "      <td>14</td>\n",
       "      <td>سالار</td>\n",
       "      <td>12436000</td>\n",
       "      <td>299    ابتدای اتوبان ذوب آهن بین گلزار 5و6\\n30...</td>\n",
       "      <td>1</td>\n",
       "    </tr>\n",
       "    <tr>\n",
       "      <th>15</th>\n",
       "      <td>15</td>\n",
       "      <td>عباس ویسی</td>\n",
       "      <td>11780399</td>\n",
       "      <td>17    اصفهان بلوار کشاورز خیابان ازادگان\\n18  ...</td>\n",
       "      <td>1</td>\n",
       "    </tr>\n",
       "    <tr>\n",
       "      <th>16</th>\n",
       "      <td>16</td>\n",
       "      <td>محمد رضا گنجی</td>\n",
       "      <td>11240000</td>\n",
       "      <td>214    شهرک پیامبر اعظم.روبروی cng\\n215    شهر...</td>\n",
       "      <td>1</td>\n",
       "    </tr>\n",
       "    <tr>\n",
       "      <th>17</th>\n",
       "      <td>17</td>\n",
       "      <td>حمیدرضا دهقان</td>\n",
       "      <td>8670000</td>\n",
       "      <td>87                                 NaN\\n88    ...</td>\n",
       "      <td>0</td>\n",
       "    </tr>\n",
       "    <tr>\n",
       "      <th>18</th>\n",
       "      <td>18</td>\n",
       "      <td>مهران براتي</td>\n",
       "      <td>7860000</td>\n",
       "      <td>143    شاپور جديد خ مشيرالدوله\\n144    شاپور ج...</td>\n",
       "      <td>0</td>\n",
       "    </tr>\n",
       "    <tr>\n",
       "      <th>19</th>\n",
       "      <td>19</td>\n",
       "      <td>محمد شفیعیان</td>\n",
       "      <td>6462000</td>\n",
       "      <td>59    اصفهان خورزوق میدان امام خمینی پشت مخابر...</td>\n",
       "      <td>0</td>\n",
       "    </tr>\n",
       "    <tr>\n",
       "      <th>20</th>\n",
       "      <td>20</td>\n",
       "      <td>حمید کهنمویی</td>\n",
       "      <td>3576000</td>\n",
       "      <td>40    درچه_خ امام داخل جایگاه بنزین البرز\\n41 ...</td>\n",
       "      <td>0</td>\n",
       "    </tr>\n",
       "    <tr>\n",
       "      <th>21</th>\n",
       "      <td>21</td>\n",
       "      <td>یعقوب صالحی چرمهینی</td>\n",
       "      <td>1720000</td>\n",
       "      <td>192    بلوار امام،نبش خیابان شورا\\n193    بلوا...</td>\n",
       "      <td>0</td>\n",
       "    </tr>\n",
       "    <tr>\n",
       "      <th>22</th>\n",
       "      <td>22</td>\n",
       "      <td>حامد  بدیعی</td>\n",
       "      <td>704000</td>\n",
       "      <td>45    خیابان مشیرالدوله بعد از چهار راه هزاردس...</td>\n",
       "      <td>0</td>\n",
       "    </tr>\n",
       "  </tbody>\n",
       "</table>\n",
       "</div>"
      ],
      "text/plain": [
       "    Unnamed: 0        customer name  final cost  \\\n",
       "0            0     حمیدرضا تبریزیان   290501028   \n",
       "1            1           علی آخوندی   193184177   \n",
       "2            2        سید رضا حسینی   147551960   \n",
       "3            3        محسن  سلیمانی   108988792   \n",
       "4            4      اتوسرویس ترافیک    89339103   \n",
       "5            5          پویا هدایتی    80282170   \n",
       "6            6     حسین  عبدالرضایی    75885037   \n",
       "7            7           عباس بروجی    66337160   \n",
       "8            8            محمد بیگی    64855518   \n",
       "9            9          فرهاد ثالثی    47780720   \n",
       "10          10         عباس حیدریان    19650400   \n",
       "11          11            بهفر خانی    18426000   \n",
       "12          12     سیدعبدالله  تقوی    14736000   \n",
       "13          13        احمد رضا  خرم    13081796   \n",
       "14          14                سالار    12436000   \n",
       "15          15            عباس ویسی    11780399   \n",
       "16          16        محمد رضا گنجی    11240000   \n",
       "17          17        حمیدرضا دهقان     8670000   \n",
       "18          18          مهران براتي     7860000   \n",
       "19          19         محمد شفیعیان     6462000   \n",
       "20          20         حمید کهنمویی     3576000   \n",
       "21          21  یعقوب صالحی چرمهینی     1720000   \n",
       "22          22         حامد  بدیعی       704000   \n",
       "\n",
       "                                              address  output  \n",
       "0   29     ملک شهر خیابان مفتح کوچه طلوع (شماره 50...       2  \n",
       "1   0      خیابان امام خمینی.جنب بانک ملی\\n1      ...       2  \n",
       "2   173    خ امام خمینی خ امیر کبیر  روبروی بانک م...       2  \n",
       "3   76     خیابان کاشانی جنوبی 30 متر بعد از خیابا...       2  \n",
       "4   26    خ سعدی شمالی.خ خواجه عبدالله انصاری.جنب ...       2  \n",
       "5   169    کمربندی چرمهین زمان آباد نبش کوچه ی صفا...       2  \n",
       "6   24     اصفهان خ ابتدای اتوبان ذوب اهن ابتدای ب...       2  \n",
       "7   20     خیابان سجاد انتهای سپهسالار یا قائم مقا...       2  \n",
       "8   201    ابتدای اتوبان ذوب اهن-بعداز قائمیه. بعد...       2  \n",
       "9   136    بلوارکشاورزخیابان قائمیه .صد متر بعدازچ...       1  \n",
       "10  204    چرمهین.شهرک خدماتی پیامبر اعظم.مقابل پم...       1  \n",
       "11  103    میدان جمهوری خیابان امام خمینی صد متر ب...       1  \n",
       "12  96    بلوارکشاورز از سمت قائمیه به کشاورزی بعد...       1  \n",
       "13  197    ابتدای باغ فردوس،روبروی نانوایی,اتوسروی...       1  \n",
       "14  299    ابتدای اتوبان ذوب آهن بین گلزار 5و6\\n30...       1  \n",
       "15  17    اصفهان بلوار کشاورز خیابان ازادگان\\n18  ...       1  \n",
       "16  214    شهرک پیامبر اعظم.روبروی cng\\n215    شهر...       1  \n",
       "17  87                                 NaN\\n88    ...       0  \n",
       "18  143    شاپور جديد خ مشيرالدوله\\n144    شاپور ج...       0  \n",
       "19  59    اصفهان خورزوق میدان امام خمینی پشت مخابر...       0  \n",
       "20  40    درچه_خ امام داخل جایگاه بنزین البرز\\n41 ...       0  \n",
       "21  192    بلوار امام،نبش خیابان شورا\\n193    بلوا...       0  \n",
       "22  45    خیابان مشیرالدوله بعد از چهار راه هزاردس...       0  "
      ]
     },
     "execution_count": 29,
     "metadata": {},
     "output_type": "execute_result"
    }
   ],
   "source": []
  },
  {
   "cell_type": "code",
   "execution_count": 30,
   "metadata": {},
   "outputs": [],
   "source": [
    "X=profit_df[['final cost']]"
   ]
  },
  {
   "cell_type": "code",
   "execution_count": 31,
   "metadata": {},
   "outputs": [],
   "source": [
    "X=np.array(X).reshape(-1,1)"
   ]
  },
  {
   "cell_type": "code",
   "execution_count": 33,
   "metadata": {},
   "outputs": [
    {
     "data": {
      "text/plain": [
       "(23, 1)"
      ]
     },
     "execution_count": 33,
     "metadata": {},
     "output_type": "execute_result"
    }
   ],
   "source": [
    "X.shape"
   ]
  },
  {
   "cell_type": "code",
   "execution_count": 35,
   "metadata": {},
   "outputs": [],
   "source": [
    "Y=np.array(profit_df[['output']]).reshape(-1,1)"
   ]
  },
  {
   "cell_type": "code",
   "execution_count": 37,
   "metadata": {},
   "outputs": [
    {
     "data": {
      "text/plain": [
       "(23, 1)"
      ]
     },
     "execution_count": 37,
     "metadata": {},
     "output_type": "execute_result"
    }
   ],
   "source": [
    "Y.shape"
   ]
  },
  {
   "cell_type": "code",
   "execution_count": 38,
   "metadata": {},
   "outputs": [
    {
     "data": {
      "text/plain": [
       "<matplotlib.collections.PathCollection at 0x16d3fbb9128>"
      ]
     },
     "execution_count": 38,
     "metadata": {},
     "output_type": "execute_result"
    },
    {
     "data": {
      "image/png": "[encoded data removed]",
      "text/plain": [
       "<Figure size 432x288 with 1 Axes>"
      ]
     },
     "metadata": {
      "needs_background": "light"
     },
     "output_type": "display_data"
    }
   ],
   "source": [
    "plt.scatter(X,Y)"
   ]
  },
  {
   "cell_type": "code",
   "execution_count": 83,
   "metadata": {},
   "outputs": [],
   "source": [
    "X_train,X_test,Y_train,Y_test=train_test_split(X,Y,test_size=.2,random_state=1)"
   ]
  },
  {
   "cell_type": "code",
   "execution_count": 67,
   "metadata": {},
   "outputs": [],
   "source": [
    "from sklearn.neighbors import KNeighborsClassifier"
   ]
  },
  {
   "cell_type": "code",
   "execution_count": 68,
   "metadata": {},
   "outputs": [],
   "source": [
    "clf=KNeighborsClassifier()"
   ]
  },
  {
   "cell_type": "code",
   "execution_count": 84,
   "metadata": {},
   "outputs": [
    {
     "name": "stderr",
     "output_type": "stream",
     "text": [
      "c:\\users\\user\\appdata\\local\\programs\\python\\python36\\lib\\site-packages\\ipykernel_launcher.py:1: DataConversionWarning: A column-vector y was passed when a 1d array was expected. Please change the shape of y to (n_samples, ), for example using ravel().\n",
      "  \"\"\"Entry point for launching an IPython kernel.\n"
     ]
    }
   ],
   "source": [
    "model=clf.fit(X_train,Y_train)"
   ]
  },
  {
   "cell_type": "code",
   "execution_count": 85,
   "metadata": {},
   "outputs": [],
   "source": [
    "y_pred=model.predict(X_test)"
   ]
  },
  {
   "cell_type": "code",
   "execution_count": 86,
   "metadata": {},
   "outputs": [],
   "source": [
    "from sklearn.metrics import confusion_matrix"
   ]
  },
  {
   "cell_type": "code",
   "execution_count": 87,
   "metadata": {},
   "outputs": [
    {
     "data": {
      "text/plain": [
       "array([[2, 1, 0],\n",
       "       [0, 1, 0],\n",
       "       [0, 0, 1]], dtype=int64)"
      ]
     },
     "execution_count": 87,
     "metadata": {},
     "output_type": "execute_result"
    }
   ],
   "source": [
    "confusion_matrix(Y_test,y_pred)"
   ]
  },
  {
   "cell_type": "code",
   "execution_count": 88,
   "metadata": {},
   "outputs": [],
   "source": [
    "from sklearn.metrics import accuracy_score"
   ]
  },
  {
   "cell_type": "code",
   "execution_count": 92,
   "metadata": {},
   "outputs": [
    {
     "name": "stdout",
     "output_type": "stream",
     "text": [
      "0.8\n"
     ]
    }
   ],
   "source": [
    "print(accuracy_score(Y_test,y_pred))\n"
   ]
  },
  {
   "cell_type": "code",
   "execution_count": 99,
   "metadata": {},
   "outputs": [],
   "source": [
    "clf2=LogisticRegression()"
   ]
  },
  {
   "cell_type": "code",
   "execution_count": 100,
   "metadata": {},
   "outputs": [
    {
     "name": "stderr",
     "output_type": "stream",
     "text": [
      "c:\\users\\user\\appdata\\local\\programs\\python\\python36\\lib\\site-packages\\sklearn\\linear_model\\logistic.py:432: FutureWarning: Default solver will be changed to 'lbfgs' in 0.22. Specify a solver to silence this warning.\n",
      "  FutureWarning)\n",
      "c:\\users\\user\\appdata\\local\\programs\\python\\python36\\lib\\site-packages\\sklearn\\utils\\validation.py:724: DataConversionWarning: A column-vector y was passed when a 1d array was expected. Please change the shape of y to (n_samples, ), for example using ravel().\n",
      "  y = column_or_1d(y, warn=True)\n",
      "c:\\users\\user\\appdata\\local\\programs\\python\\python36\\lib\\site-packages\\sklearn\\linear_model\\logistic.py:469: FutureWarning: Default multi_class will be changed to 'auto' in 0.22. Specify the multi_class option to silence this warning.\n",
      "  \"this warning.\", FutureWarning)\n"
     ]
    }
   ],
   "source": [
    "model2=clf2.fit(X_train,Y_train)"
   ]
  },
  {
   "cell_type": "code",
   "execution_count": 101,
   "metadata": {},
   "outputs": [],
   "source": [
    "y_pred2=clf2.predict(X_test)"
   ]
  },
  {
   "cell_type": "code",
   "execution_count": 102,
   "metadata": {},
   "outputs": [
    {
     "data": {
      "text/plain": [
       "array([[0, 0, 3],\n",
       "       [0, 0, 1],\n",
       "       [0, 0, 1]], dtype=int64)"
      ]
     },
     "execution_count": 102,
     "metadata": {},
     "output_type": "execute_result"
    }
   ],
   "source": [
    "confusion_matrix(Y_test,y_pred2)"
   ]
  },
  {
   "cell_type": "code",
   "execution_count": 103,
   "metadata": {},
   "outputs": [
    {
     "name": "stdout",
     "output_type": "stream",
     "text": [
      "0.2\n"
     ]
    }
   ],
   "source": [
    "print(accuracy_score(Y_test,y_pred2))"
   ]
  },
  {
   "cell_type": "code",
   "execution_count": 107,
   "metadata": {},
   "outputs": [
    {
     "data": {
      "text/plain": [
       "<matplotlib.collections.PathCollection at 0x16d43e09550>"
      ]
     },
     "execution_count": 107,
     "metadata": {},
     "output_type": "execute_result"
    },
    {
     "data": {
      "image/png": "[encoded data removed]",
      "text/plain": [
       "<Figure size 432x288 with 1 Axes>"
      ]
     },
     "metadata": {
      "needs_background": "light"
     },
     "output_type": "display_data"
    }
   ],
   "source": [
    "plt.scatter(X,Y)\n",
    "plt.scatter(X_test,y_pred)\n",
    "#plt.scatter(X_test,y_pred2)"
   ]
  },
  {
   "cell_type": "code",
   "execution_count": 108,
   "metadata": {},
   "outputs": [
    {
     "data": {
      "text/plain": [
       "<matplotlib.collections.PathCollection at 0x16d43e38f98>"
      ]
     },
     "execution_count": 108,
     "metadata": {},
     "output_type": "execute_result"
    },
    {
     "data": {
      "image/png": "[encoded data removed]",
      "text/plain": [
       "<Figure size 432x288 with 1 Axes>"
      ]
     },
     "metadata": {
      "needs_background": "light"
     },
     "output_type": "display_data"
    }
   ],
   "source": [
    "plt.scatter(X,Y)\n",
    "plt.scatter(X_test,y_pred2)"
   ]
  },
  {
   "cell_type": "code",
   "execution_count": 170,
   "metadata": {},
   "outputs": [],
   "source": [
    "df=pd.read_csv('/Users/user/Desktop/Machine Learning/AutoService-2019-08-14.csv')"
   ]
  },
  {
   "cell_type": "code",
   "execution_count": 205,
   "metadata": {},
   "outputs": [],
   "source": [
    "x=df[['number_of_shelves','number_of_pits','number_of_employees','number_of_assistants','garage_aria','store_aria']]"
   ]
  },
  {
   "cell_type": "code",
   "execution_count": 206,
   "metadata": {},
   "outputs": [],
   "source": [
    "def appearance(X):\n",
    "    if X=='E':\n",
    "        return 2\n",
    "    elif X=='G':\n",
    "        return 1\n",
    "    else:\n",
    "        return 0\n",
    "        "
   ]
  },
  {
   "cell_type": "code",
   "execution_count": 207,
   "metadata": {},
   "outputs": [],
   "source": [
    "df['app']=df['appearance'].apply(appearance)"
   ]
  },
  {
   "cell_type": "code",
   "execution_count": 208,
   "metadata": {},
   "outputs": [],
   "source": [
    "df.to_csv('/Users/user/Desktop/clf2.csv')"
   ]
  },
  {
   "cell_type": "code",
   "execution_count": 209,
   "metadata": {},
   "outputs": [],
   "source": [
    "y=df[['app']]"
   ]
  },
  {
   "cell_type": "code",
   "execution_count": 211,
   "metadata": {},
   "outputs": [],
   "source": [
    "x=np.array(x)"
   ]
  },
  {
   "cell_type": "code",
   "execution_count": 199,
   "metadata": {},
   "outputs": [],
   "source": [
    "y=np.array(y)"
   ]
  },
  {
   "cell_type": "code",
   "execution_count": 200,
   "metadata": {},
   "outputs": [
    {
     "data": {
      "text/plain": [
       "(838, 1)"
      ]
     },
     "execution_count": 200,
     "metadata": {},
     "output_type": "execute_result"
    }
   ],
   "source": [
    "y.shape"
   ]
  },
  {
   "cell_type": "code",
   "execution_count": 212,
   "metadata": {},
   "outputs": [
    {
     "data": {
      "text/plain": [
       "(838, 6)"
      ]
     },
     "execution_count": 212,
     "metadata": {},
     "output_type": "execute_result"
    }
   ],
   "source": [
    "x.shape"
   ]
  },
  {
   "cell_type": "code",
   "execution_count": 213,
   "metadata": {},
   "outputs": [],
   "source": [
    "x_train,x_test,y_train,y_test=train_test_split(x,y,test_size=.3)"
   ]
  },
  {
   "cell_type": "code",
   "execution_count": 217,
   "metadata": {},
   "outputs": [],
   "source": [
    "clf4=KNeighborsClassifier()"
   ]
  },
  {
   "cell_type": "code",
   "execution_count": 218,
   "metadata": {},
   "outputs": [
    {
     "name": "stderr",
     "output_type": "stream",
     "text": [
      "c:\\users\\user\\appdata\\local\\programs\\python\\python36\\lib\\site-packages\\ipykernel_launcher.py:1: DataConversionWarning: A column-vector y was passed when a 1d array was expected. Please change the shape of y to (n_samples, ), for example using ravel().\n",
      "  \"\"\"Entry point for launching an IPython kernel.\n"
     ]
    }
   ],
   "source": [
    "model4=clf4.fit(x_train,y_train)"
   ]
  },
  {
   "cell_type": "code",
   "execution_count": 219,
   "metadata": {},
   "outputs": [],
   "source": [
    "y_predict=model4.predict(x_test)"
   ]
  },
  {
   "cell_type": "code",
   "execution_count": 220,
   "metadata": {},
   "outputs": [
    {
     "name": "stdout",
     "output_type": "stream",
     "text": [
      "0.8611111111111112\n"
     ]
    }
   ],
   "source": [
    "print(accuracy_score(y_test,y_predict))"
   ]
  },
  {
   "cell_type": "code",
   "execution_count": 231,
   "metadata": {},
   "outputs": [],
   "source": [
    "x2=[[1,  3, 2,  2, 20, 20]]"
   ]
  },
  {
   "cell_type": "code",
   "execution_count": 232,
   "metadata": {},
   "outputs": [],
   "source": [
    "y_predict=model4.predict(x2)"
   ]
  },
  {
   "cell_type": "code",
   "execution_count": 233,
   "metadata": {},
   "outputs": [
    {
     "data": {
      "text/plain": [
       "array([2], dtype=int64)"
      ]
     },
     "execution_count": 233,
     "metadata": {},
     "output_type": "execute_result"
    }
   ],
   "source": [
    "y_predict"
   ]
  },
  {
   "cell_type": "code",
   "execution_count": null,
   "metadata": {},
   "outputs": [],
   "source": []
  },
  {
   "cell_type": "code",
   "execution_count": null,
   "metadata": {},
   "outputs": [],
   "source": []
  }
 ],
 "metadata": {
  "kernelspec": {
   "display_name": "Python 3",
   "language": "python",
   "name": "python3"
  },
  "language_info": {
   "codemirror_mode": {
    "name": "ipython",
    "version": 3
   },
   "file_extension": ".py",
   "mimetype": "text/x-python",
   "name": "python",
   "nbconvert_exporter": "python",
   "pygments_lexer": "ipython3",
   "version": "3.6.8"
  }
 },
 "nbformat": 4,
 "nbformat_minor": 2
}
